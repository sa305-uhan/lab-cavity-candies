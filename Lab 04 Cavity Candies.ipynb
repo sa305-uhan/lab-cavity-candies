{
 "cells": [
  {
   "cell_type": "markdown",
   "metadata": {},
   "source": [
    "**SA305 &#x25aa; Linear Programming &#x25aa; Spring 2021 &#x25aa; Uhan**"
   ]
  },
  {
   "cell_type": "markdown",
   "metadata": {},
   "source": [
    "# Lab 4. Cavity Candies"
   ]
  },
  {
   "cell_type": "markdown",
   "metadata": {},
   "source": [
    "⚠️ In order to complete this lab, you need to have Pyomo and GLPK installed on your computer."
   ]
  },
  {
   "cell_type": "markdown",
   "metadata": {},
   "source": [
    "## Your assignment"
   ]
  },
  {
   "cell_type": "markdown",
   "metadata": {},
   "source": [
    "Recall Exercise 2.11 from Rader (Cavity Candies), assigned for homework. We can formulate this problem as a linear program as follows.\n",
    "\n",
    "__Decision variables.__\n",
    "\n",
    "\\begin{align*}\n",
    "  B_1 & = \\mbox{amount of candy in bag 1} \\\\\n",
    "  B_2 & = \\mbox{amount of candy in bag 2} \\\\\n",
    "  C & = \\mbox{amount of cinnamon candy bought} \\\\\n",
    "  R & = \\mbox{amount of root beer candy bought} \\\\\n",
    "  G & = \\mbox{amount of grape candy bought} \\\\\n",
    "  x_{C1} & = \\mbox{amount of cinnamon candy in bag 1} \\\\\n",
    "  x_{R1} & = \\mbox{amount of root beer candy in bag 1} \\\\\n",
    "  x_{G1} & = \\mbox{amount of grape candy in bag 1} \\\\\n",
    "  x_{C2} & = \\mbox{amount of cinnamon candy in bag 2} \\\\\n",
    "  x_{R2} & = \\mbox{amount of root beer candy in bag 2} \\\\\n",
    "  x_{G2} & = \\mbox{amount of grape candy in bag 2} \\\\\n",
    "\\end{align*}\n",
    "\n",
    "__Objective function.__\n",
    "\n",
    "\\begin{alignat*}{2}\n",
    "  \\max \\quad & 0.03 B_1 + 0.025 B_2 - 0.01 C - 0.02 G - 0.015 R\n",
    "\\end{alignat*}\n",
    "\n",
    "\n",
    "__Constraints.__\n",
    "\n",
    "_Bag composition constraints._\n",
    "\n",
    "\\begin{alignat*}{2}\n",
    "  \\text{s.t.} \\quad & x_{C1} \\geq 0.4 B_1 &\\qquad& \\mbox{(bag 1 is at least 40% cinnamon)} \\\\\n",
    "  & x_{G1} \\geq 0.3 B_1 && \\mbox{(bag 1 is at least 30% grape)} \\\\\n",
    "  & 0.15B_1 \\leq x_{R1} \\leq 0.3 B_1 && \\mbox{(bag 1 is 15-30% root beer)} \\\\\n",
    "  & x_{C2} \\leq 0.3 B_2 && \\mbox{(bag 2 is at most 30% cinnamon)} \\\\\n",
    "  & x_{G2} \\geq 0.4 B_2 && \\mbox{(bag 2 is at least 40% grape)} \\\\\n",
    "  & x_{R2} \\geq 0.2 B_2 && \\mbox{(bag 2 at least 20% root beer)}\n",
    "\\end{alignat*}\n",
    "\n",
    "_Balance constraints._\n",
    "\n",
    "\\begin{alignat*}{2}\n",
    "  & x_{C1} + x_{C2} = C &\\qquad& \\mbox{(cinnamon candy used = bought)} \\\\\n",
    "  & x_{G1} + x_{G2} = G && \\mbox{(grape candy used = bought)} \\\\\n",
    "  & x_{R1} + x_{R2} = R && \\mbox{(root beer candy used = bought)} \\\\\n",
    "  & x_{C1} + x_{G1} + x_{R1} = B_1 && \\mbox{(size of bag 1 = the candy in it)} \\\\\n",
    "  & x_{C2} + x_{G2} + x_{R2} = B_2 && \\mbox{(size of bag 2 = the candy in it)}\n",
    "\\end{alignat*}\n",
    "\n",
    "_Variable bounds (including candy per bag limits)._\n",
    "\n",
    "\\begin{alignat*}{2}\n",
    "  & 75 \\leq B_1 \\leq 100 &\\qquad & \\mbox{(bag 1 candy limits)} \\\\\n",
    "  & 50 \\leq B_2 \\leq 75 && \\mbox{(bag 2 candy limits)} \\\\\n",
    "  & 0 \\leq x_{C1} \\leq 60 && \\mbox{(cinnamon per bag 1 limit, nonnegativity)} \\\\\n",
    "  & 0 \\leq x_{C2} \\leq 60 && \\mbox{(cinnamon per bag 2 limit, nonnegativity)} \\\\\n",
    "  & 0 \\leq x_{G1} \\leq 75 && \\mbox{(grape per bag 1 limit, nonnegativity)} \\\\\n",
    "  & 0 \\leq x_{G2} \\leq 75 && \\mbox{(grape per bag 2 limit, nonnegativity)} \\\\\n",
    "  & 0 \\leq x_{R1} \\leq 75 && \\mbox{(root beer per bag 1 limit, nonnegativity)} \\\\\n",
    "  & 0 \\leq x_{R2} \\leq 75 && \\mbox{(root beer per bag 2 limit, nonnegativity)} \\\\\n",
    "  & C, G, R \\geq 0 && \\mbox{(nonnegativity)}\n",
    "\\end{alignat*}\n"
   ]
  },
  {
   "cell_type": "markdown",
   "metadata": {},
   "source": [
    "Construct and solve this model in Pyomo by completing the tasks given below. You do **NOT** need to use sets and parameters for this lab."
   ]
  },
  {
   "cell_type": "markdown",
   "metadata": {},
   "source": [
    "__1.__  Import the Pyomo library and initialize a concrete model."
   ]
  },
  {
   "cell_type": "code",
   "execution_count": null,
   "metadata": {},
   "outputs": [],
   "source": []
  },
  {
   "cell_type": "markdown",
   "metadata": {},
   "source": [
    "__2.__ Define the decision variables. Specify the variable bounds at the same time."
   ]
  },
  {
   "cell_type": "code",
   "execution_count": null,
   "metadata": {},
   "outputs": [],
   "source": []
  },
  {
   "cell_type": "markdown",
   "metadata": {},
   "source": [
    "__3.__ Define the objective function.  Make sure you specify the correct `sense`."
   ]
  },
  {
   "cell_type": "code",
   "execution_count": null,
   "metadata": {},
   "outputs": [],
   "source": []
  },
  {
   "cell_type": "markdown",
   "metadata": {},
   "source": [
    "__4.__ Define the bag composition constraints."
   ]
  },
  {
   "cell_type": "code",
   "execution_count": null,
   "metadata": {},
   "outputs": [],
   "source": []
  },
  {
   "cell_type": "markdown",
   "metadata": {},
   "source": [
    "__5.__ Define the balance constraints."
   ]
  },
  {
   "cell_type": "code",
   "execution_count": null,
   "metadata": {},
   "outputs": [],
   "source": []
  },
  {
   "cell_type": "markdown",
   "metadata": {},
   "source": [
    "__6.__ Solve the model and save the result as `result`."
   ]
  },
  {
   "cell_type": "code",
   "execution_count": null,
   "metadata": {},
   "outputs": [],
   "source": []
  },
  {
   "cell_type": "markdown",
   "metadata": {},
   "source": [
    "__7.__ Print the status of the solving process of the model."
   ]
  },
  {
   "cell_type": "code",
   "execution_count": null,
   "metadata": {},
   "outputs": [],
   "source": []
  },
  {
   "cell_type": "markdown",
   "metadata": {},
   "source": [
    "__8.__ If the solver terminated with an optimal solution, print the optimal solution and its value."
   ]
  },
  {
   "cell_type": "code",
   "execution_count": null,
   "metadata": {},
   "outputs": [],
   "source": []
  },
  {
   "cell_type": "markdown",
   "metadata": {},
   "source": [
    "<hr style=\"border-top: 1px solid gray;\"/>"
   ]
  },
  {
   "cell_type": "markdown",
   "metadata": {},
   "source": [
    "## When you're finished"
   ]
  },
  {
   "cell_type": "markdown",
   "metadata": {},
   "source": [
    "- Make sure your notebook runs from top to bottom with no errors. One way to accomplish this is to click on __Kernel &#8594; Restart & Run All__. This will restart Python, and run your notebook from top to bottom."
   ]
  },
  {
   "cell_type": "markdown",
   "metadata": {},
   "source": [
    "<hr style=\"border-top: 1px solid gray;\"/>"
   ]
  },
  {
   "cell_type": "markdown",
   "metadata": {},
   "source": [
    "## Grading"
   ]
  },
  {
   "cell_type": "markdown",
   "metadata": {},
   "source": [
    "| Problem | Weight |\n",
    "| :-: | -: |\n",
    "| 1 | 0.25 |\n",
    "| 2 | 1 | \n",
    "| 3 | 0.5 | \n",
    "| 4 | 3 | \n",
    "| 5 | 3 | \n",
    "| 6 | 1 |\n",
    "| 7 | 0.25 | \n",
    "| 8 | 1 |\n",
    "| __Total__ | __100 points__ |"
   ]
  }
 ],
 "metadata": {
  "kernelspec": {
   "display_name": "Python 3",
   "language": "python",
   "name": "python3"
  },
  "language_info": {
   "codemirror_mode": {
    "name": "ipython",
    "version": 3
   },
   "file_extension": ".py",
   "mimetype": "text/x-python",
   "name": "python",
   "nbconvert_exporter": "python",
   "pygments_lexer": "ipython3",
   "version": "3.7.6"
  }
 },
 "nbformat": 4,
 "nbformat_minor": 2
}
